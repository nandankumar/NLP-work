{
  "nbformat": 4,
  "nbformat_minor": 0,
  "metadata": {
    "colab": {
      "name": "Youtube NLP Text Representaion.ipynb",
      "provenance": []
    },
    "kernelspec": {
      "name": "python3",
      "display_name": "Python 3"
    },
    "language_info": {
      "name": "python"
    }
  },
  "cells": [
    {
      "cell_type": "code",
      "execution_count": null,
      "metadata": {
        "id": "FdzmhPLk8fd9"
      },
      "outputs": [],
      "source": [
        "# !pip install sklearn -q\n",
        "# !pip install spacy -q\n",
        "# !python -m spacy download en_core_web_sm"
      ]
    },
    {
      "cell_type": "code",
      "source": [
        "import numpy as np\n",
        "import pandas as pd\n",
        "\n",
        "from sklearn.feature_extraction.text import CountVectorizer,TfidfVectorizer\n",
        "from sklearn import metrics\n",
        "\n",
        "import string\n",
        "import spacy\n",
        "np.random.seed(42)"
      ],
      "metadata": {
        "id": "rynjIW1f87JV"
      },
      "execution_count": 1,
      "outputs": []
    },
    {
      "cell_type": "code",
      "source": [
        "from google.colab import drive\n",
        "drive.mount('/content/drive')"
      ],
      "metadata": {
        "id": "LCYYF2g-008b",
        "outputId": "88a2c77e-6f53-49f5-8d9c-a0757f435523",
        "colab": {
          "base_uri": "https://localhost:8080/"
        }
      },
      "execution_count": 10,
      "outputs": [
        {
          "output_type": "stream",
          "name": "stdout",
          "text": [
            "Drive already mounted at /content/drive; to attempt to forcibly remount, call drive.mount(\"/content/drive\", force_remount=True).\n"
          ]
        }
      ]
    },
    {
      "cell_type": "code",
      "source": [
        "from google.colab import files\n",
        "uploaded = files.upload()"
      ],
      "metadata": {
        "colab": {
          "base_uri": "https://localhost:8080/"
        },
        "id": "cFFBp1j41B7P",
        "outputId": "e32d2815-79f1-421b-fc7a-59049e06b58f"
      },
      "execution_count": 12,
      "outputs": [
        {
          "output_type": "stream",
          "name": "stdout",
          "text": [
            " 1020641.PDF\n",
            " 10631221-IT.DOC\n",
            " 13140575.pdf\n",
            " 137364469_1615714712042.pdf\n",
            " 20160112_121108.jpg\n",
            " 276.doc\n",
            " 276.doc.gdoc\n",
            "'4-up on 10-28-18 at 10.50 AM #2.jpg'\n",
            "'4-up on 10-28-18 at 10.50 AM #3.jpg'\n",
            "'4-up on 10-28-18 at 10.50 AM #4.jpg'\n",
            "'4-up on 10-28-18 at 10.50 AM (compiled).jpg'\n",
            "'4-up on 10-28-18 at 10.50 AM.jpg'\n",
            "'4-up on 10-28-18 at 10.51 AM #2.jpg'\n",
            "'4-up on 10-28-18 at 10.51 AM #3.jpg'\n",
            "'4-up on 10-28-18 at 10.51 AM #4.jpg'\n",
            "'4-up on 10-28-18 at 10.51 AM.jpg'\n",
            "'97_FORM 16_Part A_F.Y.2016-17.pdf'\n",
            " aaaa.gdoc\n",
            "'ajith  july resume.docx'\n",
            "'ajith  july resume.docx.gdoc'\n",
            " Bangalore.gmap\n",
            " bike_insurance.pdf\n",
            " bike_policy.pdf\n",
            "'Business Cards &  ID Requisition Form.gdoc'\n",
            "'Chikkamangalur trip cost.gsheet'\n",
            "'Chowtary enquiry.gsheet'\n",
            "'Circular regarding TDS on 115BAC income.pdf'\n",
            "'Citibank Account Statement_Aug 1 2016 to Aug 31 2016.pdf'\n",
            "'CITIBANK REWARDS PLATINUM CARD.pdf'\n",
            " cms_api.zip\n",
            " Corona2.json\n",
            "'CURRICULAM VITAE.gdoc'\n",
            "'D040155564_946404347876296_ECARD (3).pdf'\n",
            " edited_Postpaid_Bill_9880216191_541588386.pdf\n",
            "'Employee Details - Vaccine (1).gsheet'\n",
            "'Employee Details - Vaccine.gsheet'\n",
            " examples.md.gslides\n",
            " Feedback.gdoc\n",
            "'Firebase functions data flow.gdoc'\n",
            "'GIT EFECTIVE WAY .gdoc'\n",
            "'Hackastack-Company profile.gdoc'\n",
            "'IGS_Experity Health_Skill Matrix.gsheet'\n",
            "'IGS_Experity Health_Skill Matrix_rubyonrails.gsheet'\n",
            "'IGS_Experity Health_Skill Matrix_updated_rubyonrails.gsheet'\n",
            "'Important websites.gdoc'\n",
            "'Instagram_flow (1).html'\n",
            " Instagram_flow.html\n",
            " Instagram_flow.png\n",
            " Insurance\n",
            " IT_DATA_CHANDAN_CHOUBEY.gsheet\n",
            "'IT Data for VM.gsheet'\n",
            "'IT Data for VM_updated (1).gsheet'\n",
            "'IT Data for VM_updated.gsheet'\n",
            " JD_EAMS-BLR.gdoc\n",
            "'JD Web TL.gdoc'\n",
            "'Job Card.pdf'\n",
            " kingston_interview.gsheet\n",
            "'Marriage Photos'\n",
            "'Medical Inusrance-April 2020.gsheet'\n",
            "'Medical Inusrance-April 2020_updated1234.gsheet'\n",
            " MobileBill_105-102320239_597148633_9972330880.pdf\n",
            "'My bike.pdf'\n",
            "'My documents.pdf'\n",
            "'Nandan (1)'\n",
            " Nandan1.jpg\n",
            " Nandan.doc.gdoc\n",
            " Nandan.gdoc\n",
            " Nandan_invite.gdoc\n",
            "'Nandan Kumar.docx'\n",
            " Nandan_kumar.gdoc\n",
            "'Nandan Kumar.gdoc'\n",
            "\"Nandankumar_IGS_Skill Matrix 1-Mar'21_PVM Team.gsheet\"\n",
            "'nandan pancard.pdf'\n",
            "'Nandan_Resume (1) (1).gdoc'\n",
            "'Nandan_Resume (1).gdoc'\n",
            " Nandan_Resume.doc\n",
            " Nandan_Resume.doc.gdoc\n",
            " Nandan_savings.gsheet\n",
            " Nandan_savings.xlsx\n",
            " Nandan_savings.xlsx.gsheet\n",
            " NAVEEN_CV_Nov.gdoc\n",
            "'New Spreadsheet (1).xlsx'\n",
            "'New Spreadsheet (2).xlsx'\n",
            "'New Spreadsheet.xlsx'\n",
            "'Offer Letter'\n",
            " Pay_anywhere_Ruby.gdoc\n",
            "'PE team Resource access Checklist.gsheet'\n",
            "'PE Team Resource Access Checklist .gsheet'\n",
            "'PF New Joinees format April-20.gsheet'\n",
            "'Photo on 10-10-18 at 1.01 PM.jpg'\n",
            "'PPT Tax Regime FY 20-21.gslides'\n",
            " questions.csv\n",
            "'Rental agreement new.pdf'\n",
            " resume.doc\n",
            " Resume_nandan_april_23_12pm.docx\n",
            " Resume_nandan_april_9_3pm.pages\n",
            "'Resume_nandan_latest (1).docx'\n",
            " Resume_nandan_latest.docx\n",
            "'rev functional effort estimation -aveda_16th dec.gsheet'\n",
            " Road_map_25_Nov.gsheet\n",
            "'Roadmap Timeline v2 - 11-20-2020.xlsx'\n",
            "'Roadmap Timeline v2 (3) (1).xlsx'\n",
            "'Roadmap Timeline v2 (3) (2).xlsx'\n",
            "'Roadmap Timeline v2 (3).xlsx'\n",
            "'Roadmap Timeline v2-JAN-07.gsheet'\n",
            "'Roadmap Timeline v3.gsheet'\n",
            "'ROI  2015-16 HARI ACTUAL.gsheet'\n",
            "'Shoffr software access.gsheet'\n",
            "'Singapore expenses.gsheet'\n",
            "'Survey numbers.gsheet'\n",
            " Takeout\n",
            "'Takeout (1)'\n",
            "'To-do list.gsheet'\n",
            "'Ubuntu server setup document.gdoc'\n",
            "'Untitled document.gdoc'\n",
            "'Untitled presentation.gslides'\n",
            "'Untitled project.gscript'\n",
            "'Untitled spreadsheet (1).gsheet'\n",
            "'Untitled spreadsheet.gsheet'\n",
            " Updated_10_DEC_2020.gsheet\n",
            "'Ups warranty cards'\n",
            "'Urgentq onboarding document.gdoc'\n",
            " Veera_Vijay_Resume.gdoc\n",
            "'Welcome Mail Form.gdoc'\n"
          ]
        }
      ]
    },
    {
      "cell_type": "code",
      "source": [
        "data = pd.read_csv(\"toxic_comment.csv\",error_bad_lines=False, engine=\"python\")\n",
        "data.head()"
      ],
      "metadata": {
        "colab": {
          "base_uri": "https://localhost:8080/",
          "height": 315
        },
        "id": "e_gu1HyO9GLv",
        "outputId": "9021167f-fcda-434b-c756-bd724870214e"
      },
      "execution_count": 14,
      "outputs": [
        {
          "output_type": "stream",
          "name": "stderr",
          "text": [
            "<ipython-input-14-689a23f6fdfe>:1: FutureWarning: The error_bad_lines argument has been deprecated and will be removed in a future version. Use on_bad_lines in the future.\n",
            "\n",
            "\n",
            "  data = pd.read_csv(\"toxic_comment.csv\",error_bad_lines=False, engine=\"python\")\n",
            "Skipping line 144: unexpected end of data\n"
          ]
        },
        {
          "output_type": "execute_result",
          "data": {
            "text/plain": [
              "                 id                                       comment_text  toxic  \\\n",
              "0  0000997932d777bf  Explanation\\nWhy the edits made under my usern...      0   \n",
              "1  000103f0d9cfb60f  D'aww! He matches this background colour I'm s...      0   \n",
              "2  000113f07ec002fd  Hey man, I'm really not trying to edit war. It...      0   \n",
              "3  0001b41b1c6bb37e  \"\\nMore\\nI can't make any real suggestions on ...      0   \n",
              "4  0001d958c54c6e35  You, sir, are my hero. Any chance you remember...      0   \n",
              "\n",
              "   severe_toxic  obscene  threat  insult  identity_hate  \n",
              "0             0        0       0       0              0  \n",
              "1             0        0       0       0              0  \n",
              "2             0        0       0       0              0  \n",
              "3             0        0       0       0              0  \n",
              "4             0        0       0       0              0  "
            ],
            "text/html": [
              "\n",
              "  <div id=\"df-b106232e-1483-4cd1-a475-3625a9460e18\" class=\"colab-df-container\">\n",
              "    <div>\n",
              "<style scoped>\n",
              "    .dataframe tbody tr th:only-of-type {\n",
              "        vertical-align: middle;\n",
              "    }\n",
              "\n",
              "    .dataframe tbody tr th {\n",
              "        vertical-align: top;\n",
              "    }\n",
              "\n",
              "    .dataframe thead th {\n",
              "        text-align: right;\n",
              "    }\n",
              "</style>\n",
              "<table border=\"1\" class=\"dataframe\">\n",
              "  <thead>\n",
              "    <tr style=\"text-align: right;\">\n",
              "      <th></th>\n",
              "      <th>id</th>\n",
              "      <th>comment_text</th>\n",
              "      <th>toxic</th>\n",
              "      <th>severe_toxic</th>\n",
              "      <th>obscene</th>\n",
              "      <th>threat</th>\n",
              "      <th>insult</th>\n",
              "      <th>identity_hate</th>\n",
              "    </tr>\n",
              "  </thead>\n",
              "  <tbody>\n",
              "    <tr>\n",
              "      <th>0</th>\n",
              "      <td>0000997932d777bf</td>\n",
              "      <td>Explanation\\nWhy the edits made under my usern...</td>\n",
              "      <td>0</td>\n",
              "      <td>0</td>\n",
              "      <td>0</td>\n",
              "      <td>0</td>\n",
              "      <td>0</td>\n",
              "      <td>0</td>\n",
              "    </tr>\n",
              "    <tr>\n",
              "      <th>1</th>\n",
              "      <td>000103f0d9cfb60f</td>\n",
              "      <td>D'aww! He matches this background colour I'm s...</td>\n",
              "      <td>0</td>\n",
              "      <td>0</td>\n",
              "      <td>0</td>\n",
              "      <td>0</td>\n",
              "      <td>0</td>\n",
              "      <td>0</td>\n",
              "    </tr>\n",
              "    <tr>\n",
              "      <th>2</th>\n",
              "      <td>000113f07ec002fd</td>\n",
              "      <td>Hey man, I'm really not trying to edit war. It...</td>\n",
              "      <td>0</td>\n",
              "      <td>0</td>\n",
              "      <td>0</td>\n",
              "      <td>0</td>\n",
              "      <td>0</td>\n",
              "      <td>0</td>\n",
              "    </tr>\n",
              "    <tr>\n",
              "      <th>3</th>\n",
              "      <td>0001b41b1c6bb37e</td>\n",
              "      <td>\"\\nMore\\nI can't make any real suggestions on ...</td>\n",
              "      <td>0</td>\n",
              "      <td>0</td>\n",
              "      <td>0</td>\n",
              "      <td>0</td>\n",
              "      <td>0</td>\n",
              "      <td>0</td>\n",
              "    </tr>\n",
              "    <tr>\n",
              "      <th>4</th>\n",
              "      <td>0001d958c54c6e35</td>\n",
              "      <td>You, sir, are my hero. Any chance you remember...</td>\n",
              "      <td>0</td>\n",
              "      <td>0</td>\n",
              "      <td>0</td>\n",
              "      <td>0</td>\n",
              "      <td>0</td>\n",
              "      <td>0</td>\n",
              "    </tr>\n",
              "  </tbody>\n",
              "</table>\n",
              "</div>\n",
              "    <div class=\"colab-df-buttons\">\n",
              "\n",
              "  <div class=\"colab-df-container\">\n",
              "    <button class=\"colab-df-convert\" onclick=\"convertToInteractive('df-b106232e-1483-4cd1-a475-3625a9460e18')\"\n",
              "            title=\"Convert this dataframe to an interactive table.\"\n",
              "            style=\"display:none;\">\n",
              "\n",
              "  <svg xmlns=\"http://www.w3.org/2000/svg\" height=\"24px\" viewBox=\"0 -960 960 960\">\n",
              "    <path d=\"M120-120v-720h720v720H120Zm60-500h600v-160H180v160Zm220 220h160v-160H400v160Zm0 220h160v-160H400v160ZM180-400h160v-160H180v160Zm440 0h160v-160H620v160ZM180-180h160v-160H180v160Zm440 0h160v-160H620v160Z\"/>\n",
              "  </svg>\n",
              "    </button>\n",
              "\n",
              "  <style>\n",
              "    .colab-df-container {\n",
              "      display:flex;\n",
              "      gap: 12px;\n",
              "    }\n",
              "\n",
              "    .colab-df-convert {\n",
              "      background-color: #E8F0FE;\n",
              "      border: none;\n",
              "      border-radius: 50%;\n",
              "      cursor: pointer;\n",
              "      display: none;\n",
              "      fill: #1967D2;\n",
              "      height: 32px;\n",
              "      padding: 0 0 0 0;\n",
              "      width: 32px;\n",
              "    }\n",
              "\n",
              "    .colab-df-convert:hover {\n",
              "      background-color: #E2EBFA;\n",
              "      box-shadow: 0px 1px 2px rgba(60, 64, 67, 0.3), 0px 1px 3px 1px rgba(60, 64, 67, 0.15);\n",
              "      fill: #174EA6;\n",
              "    }\n",
              "\n",
              "    .colab-df-buttons div {\n",
              "      margin-bottom: 4px;\n",
              "    }\n",
              "\n",
              "    [theme=dark] .colab-df-convert {\n",
              "      background-color: #3B4455;\n",
              "      fill: #D2E3FC;\n",
              "    }\n",
              "\n",
              "    [theme=dark] .colab-df-convert:hover {\n",
              "      background-color: #434B5C;\n",
              "      box-shadow: 0px 1px 3px 1px rgba(0, 0, 0, 0.15);\n",
              "      filter: drop-shadow(0px 1px 2px rgba(0, 0, 0, 0.3));\n",
              "      fill: #FFFFFF;\n",
              "    }\n",
              "  </style>\n",
              "\n",
              "    <script>\n",
              "      const buttonEl =\n",
              "        document.querySelector('#df-b106232e-1483-4cd1-a475-3625a9460e18 button.colab-df-convert');\n",
              "      buttonEl.style.display =\n",
              "        google.colab.kernel.accessAllowed ? 'block' : 'none';\n",
              "\n",
              "      async function convertToInteractive(key) {\n",
              "        const element = document.querySelector('#df-b106232e-1483-4cd1-a475-3625a9460e18');\n",
              "        const dataTable =\n",
              "          await google.colab.kernel.invokeFunction('convertToInteractive',\n",
              "                                                    [key], {});\n",
              "        if (!dataTable) return;\n",
              "\n",
              "        const docLinkHtml = 'Like what you see? Visit the ' +\n",
              "          '<a target=\"_blank\" href=https://colab.research.google.com/notebooks/data_table.ipynb>data table notebook</a>'\n",
              "          + ' to learn more about interactive tables.';\n",
              "        element.innerHTML = '';\n",
              "        dataTable['output_type'] = 'display_data';\n",
              "        await google.colab.output.renderOutput(dataTable, element);\n",
              "        const docLink = document.createElement('div');\n",
              "        docLink.innerHTML = docLinkHtml;\n",
              "        element.appendChild(docLink);\n",
              "      }\n",
              "    </script>\n",
              "  </div>\n",
              "\n",
              "\n",
              "<div id=\"df-4717a7b3-5dd9-4807-9551-7afe12778a9b\">\n",
              "  <button class=\"colab-df-quickchart\" onclick=\"quickchart('df-4717a7b3-5dd9-4807-9551-7afe12778a9b')\"\n",
              "            title=\"Suggest charts.\"\n",
              "            style=\"display:none;\">\n",
              "\n",
              "<svg xmlns=\"http://www.w3.org/2000/svg\" height=\"24px\"viewBox=\"0 0 24 24\"\n",
              "     width=\"24px\">\n",
              "    <g>\n",
              "        <path d=\"M19 3H5c-1.1 0-2 .9-2 2v14c0 1.1.9 2 2 2h14c1.1 0 2-.9 2-2V5c0-1.1-.9-2-2-2zM9 17H7v-7h2v7zm4 0h-2V7h2v10zm4 0h-2v-4h2v4z\"/>\n",
              "    </g>\n",
              "</svg>\n",
              "  </button>\n",
              "\n",
              "<style>\n",
              "  .colab-df-quickchart {\n",
              "      --bg-color: #E8F0FE;\n",
              "      --fill-color: #1967D2;\n",
              "      --hover-bg-color: #E2EBFA;\n",
              "      --hover-fill-color: #174EA6;\n",
              "      --disabled-fill-color: #AAA;\n",
              "      --disabled-bg-color: #DDD;\n",
              "  }\n",
              "\n",
              "  [theme=dark] .colab-df-quickchart {\n",
              "      --bg-color: #3B4455;\n",
              "      --fill-color: #D2E3FC;\n",
              "      --hover-bg-color: #434B5C;\n",
              "      --hover-fill-color: #FFFFFF;\n",
              "      --disabled-bg-color: #3B4455;\n",
              "      --disabled-fill-color: #666;\n",
              "  }\n",
              "\n",
              "  .colab-df-quickchart {\n",
              "    background-color: var(--bg-color);\n",
              "    border: none;\n",
              "    border-radius: 50%;\n",
              "    cursor: pointer;\n",
              "    display: none;\n",
              "    fill: var(--fill-color);\n",
              "    height: 32px;\n",
              "    padding: 0;\n",
              "    width: 32px;\n",
              "  }\n",
              "\n",
              "  .colab-df-quickchart:hover {\n",
              "    background-color: var(--hover-bg-color);\n",
              "    box-shadow: 0 1px 2px rgba(60, 64, 67, 0.3), 0 1px 3px 1px rgba(60, 64, 67, 0.15);\n",
              "    fill: var(--button-hover-fill-color);\n",
              "  }\n",
              "\n",
              "  .colab-df-quickchart-complete:disabled,\n",
              "  .colab-df-quickchart-complete:disabled:hover {\n",
              "    background-color: var(--disabled-bg-color);\n",
              "    fill: var(--disabled-fill-color);\n",
              "    box-shadow: none;\n",
              "  }\n",
              "\n",
              "  .colab-df-spinner {\n",
              "    border: 2px solid var(--fill-color);\n",
              "    border-color: transparent;\n",
              "    border-bottom-color: var(--fill-color);\n",
              "    animation:\n",
              "      spin 1s steps(1) infinite;\n",
              "  }\n",
              "\n",
              "  @keyframes spin {\n",
              "    0% {\n",
              "      border-color: transparent;\n",
              "      border-bottom-color: var(--fill-color);\n",
              "      border-left-color: var(--fill-color);\n",
              "    }\n",
              "    20% {\n",
              "      border-color: transparent;\n",
              "      border-left-color: var(--fill-color);\n",
              "      border-top-color: var(--fill-color);\n",
              "    }\n",
              "    30% {\n",
              "      border-color: transparent;\n",
              "      border-left-color: var(--fill-color);\n",
              "      border-top-color: var(--fill-color);\n",
              "      border-right-color: var(--fill-color);\n",
              "    }\n",
              "    40% {\n",
              "      border-color: transparent;\n",
              "      border-right-color: var(--fill-color);\n",
              "      border-top-color: var(--fill-color);\n",
              "    }\n",
              "    60% {\n",
              "      border-color: transparent;\n",
              "      border-right-color: var(--fill-color);\n",
              "    }\n",
              "    80% {\n",
              "      border-color: transparent;\n",
              "      border-right-color: var(--fill-color);\n",
              "      border-bottom-color: var(--fill-color);\n",
              "    }\n",
              "    90% {\n",
              "      border-color: transparent;\n",
              "      border-bottom-color: var(--fill-color);\n",
              "    }\n",
              "  }\n",
              "</style>\n",
              "\n",
              "  <script>\n",
              "    async function quickchart(key) {\n",
              "      const quickchartButtonEl =\n",
              "        document.querySelector('#' + key + ' button');\n",
              "      quickchartButtonEl.disabled = true;  // To prevent multiple clicks.\n",
              "      quickchartButtonEl.classList.add('colab-df-spinner');\n",
              "      try {\n",
              "        const charts = await google.colab.kernel.invokeFunction(\n",
              "            'suggestCharts', [key], {});\n",
              "      } catch (error) {\n",
              "        console.error('Error during call to suggestCharts:', error);\n",
              "      }\n",
              "      quickchartButtonEl.classList.remove('colab-df-spinner');\n",
              "      quickchartButtonEl.classList.add('colab-df-quickchart-complete');\n",
              "    }\n",
              "    (() => {\n",
              "      let quickchartButtonEl =\n",
              "        document.querySelector('#df-4717a7b3-5dd9-4807-9551-7afe12778a9b button');\n",
              "      quickchartButtonEl.style.display =\n",
              "        google.colab.kernel.accessAllowed ? 'block' : 'none';\n",
              "    })();\n",
              "  </script>\n",
              "</div>\n",
              "    </div>\n",
              "  </div>\n"
            ]
          },
          "metadata": {},
          "execution_count": 14
        }
      ]
    },
    {
      "cell_type": "code",
      "source": [
        "nlp = spacy.load(\"en_core_web_sm\")\n",
        "stop_words = nlp.Defaults.stop_words\n",
        "print(stop_words)"
      ],
      "metadata": {
        "colab": {
          "base_uri": "https://localhost:8080/"
        },
        "id": "oL9T6rcV-Mn1",
        "outputId": "b3620500-ab43-430e-b032-f18d867f108f"
      },
      "execution_count": 15,
      "outputs": [
        {
          "output_type": "stream",
          "name": "stdout",
          "text": [
            "{'whereby', 'did', 'whom', 'it', 'used', 'during', '’s', 'nor', 'once', 'per', 'these', 'can', 'alone', 'hers', 'moreover', 'toward', 'hereby', 'became', 'into', 'herself', 'due', 'none', 'this', 'becoming', 'only', 'further', 'which', 'now', 'being', '‘ll', 'otherwise', 'myself', 'perhaps', 'full', 'top', 'else', 'the', 'latterly', 'rather', 'on', 'wherever', 'nothing', 'in', 'a', 'she', \"'d\", 'say', 'put', 'hereafter', 'namely', 'has', '‘d', 'against', 'either', 'around', 'thru', '’d', 'always', 'sometimes', 'nevertheless', 'anyhow', 'somehow', 'he', 'name', 'its', 'three', 'some', 'his', \"n't\", 'their', 'whither', 'sixty', 'those', 'meanwhile', 'within', 'ever', 'above', 'more', 'does', 'every', 'everyone', 'much', 'whoever', 'side', 'be', 'then', 'after', 'if', 'by', 'latter', 'become', 'indeed', 'are', \"'m\", 'do', 'n’t', 'whose', '’ve', 'so', 'besides', 'behind', 'show', 'although', 'since', 'whether', 'mostly', 'here', 'through', 'former', 'thence', 'enough', 'almost', 'back', 'wherein', 'not', 'anything', 'would', 'neither', 'most', 'done', 'how', 'keep', 'beside', '’ll', 'least', 'please', 'whereafter', 'across', 'well', 'him', 'at', 'something', \"'s\", 'whereupon', 'mine', 'is', \"'ll\", 'whatever', 'and', '‘s', 'amongst', 'fifty', 'third', 'hereupon', 'often', 'am', 'without', 'himself', 'themselves', \"'ve\", 'everywhere', 'own', 'any', 'anywhere', 'two', 'whereas', 'your', 'where', 'twenty', 'next', 'someone', 'take', 'because', '‘m', 'her', 'move', 'even', 'four', 'really', 'front', 'very', 'made', 'towards', 'thereupon', 'below', 'just', 'may', 'yours', 'when', 'several', 'anyone', 'therefore', 'others', 'whence', 'no', 'elsewhere', 'that', 'thus', 'thereafter', 'upon', 'yourselves', 'among', 'me', 'must', 'there', 'call', 'becomes', 'yet', 'out', 'i', 'who', 'fifteen', 'few', 'anyway', 'another', 'was', 'or', 'us', 'beyond', 'make', 'regarding', 'n‘t', 'therein', 'yourself', 'seemed', 'we', 'serious', 'beforehand', 'amount', 'six', 'onto', 'also', 'get', 'about', 'over', 'together', 'hundred', 'same', 'thereby', 'should', 'many', 'herein', 'with', 'for', 'forty', 'until', 'of', 'one', 'ten', 'than', 'could', 'what', 'doing', 'all', 'other', 'have', 'throughout', 'again', 'give', 'however', 'my', 'each', 'were', 'hence', 'already', 'first', 'unless', 'whenever', 'from', 'though', '‘re', 'seem', 'seems', 'both', 'formerly', '’m', 'ourselves', 'bottom', 'noone', 'as', 'between', 'before', 'using', 'too', 'whole', 'might', 'somewhere', 'see', 'such', 'eight', 'off', 'our', 're', 'but', 'empty', 'nowhere', 'twelve', \"'re\", 'five', 'go', 'last', 'ours', 'quite', 'seeming', 'eleven', 'via', 'various', 'they', 'less', 'except', 'an', 'never', 'still', 'to', 'will', 'nine', 'part', 'under', '’re', 'along', 'you', 'been', 'had', 'cannot', 'sometime', 'why', 'them', '‘ve', 'up', 'everything', 'nobody', 'afterwards', 'while', 'down', 'itself', 'ca'}\n"
          ]
        }
      ]
    },
    {
      "cell_type": "code",
      "source": [
        "punctuations = string.punctuation\n",
        "print(punctuations)"
      ],
      "metadata": {
        "colab": {
          "base_uri": "https://localhost:8080/"
        },
        "id": "7V1TAxcI-jec",
        "outputId": "c7587c9c-40b9-4b8e-ad1d-5a4f5d670272"
      },
      "execution_count": 16,
      "outputs": [
        {
          "output_type": "stream",
          "name": "stdout",
          "text": [
            "!\"#$%&'()*+,-./:;<=>?@[\\]^_`{|}~\n"
          ]
        }
      ]
    },
    {
      "cell_type": "code",
      "source": [
        "# Creating our tokenizer function\n",
        "def spacy_tokenizer(sentence):\n",
        "    # Creating our token object, which is used to create documents with linguistic annotations.\n",
        "    doc = nlp(sentence)\n",
        "\n",
        "\n",
        "\n",
        "    # print(doc)\n",
        "    # print(type(doc))\n",
        "\n",
        "    # Lemmatizing each token and converting each token into lowercase\n",
        "    mytokens = [ word.lemma_.lower().strip() for word in doc ]\n",
        "\n",
        "    # print(mytokens)\n",
        "\n",
        "    # Removing stop words\n",
        "    mytokens = [ word for word in mytokens if word not in stop_words and word not in punctuations ]\n",
        "\n",
        "    # return preprocessed list of tokens\n",
        "    return mytokens"
      ],
      "metadata": {
        "id": "VpoOBYrk-rSl"
      },
      "execution_count": 17,
      "outputs": []
    },
    {
      "cell_type": "code",
      "source": [
        "sentence = \"I am eating apple ?\"\n",
        "spacy_tokenizer(sentence)"
      ],
      "metadata": {
        "colab": {
          "base_uri": "https://localhost:8080/"
        },
        "id": "s-sWGc8I-zS8",
        "outputId": "0486b204-1f58-41b1-f9e4-b0cc0f5a1f0d"
      },
      "execution_count": 18,
      "outputs": [
        {
          "output_type": "execute_result",
          "data": {
            "text/plain": [
              "['eat', 'apple']"
            ]
          },
          "metadata": {},
          "execution_count": 18
        }
      ]
    },
    {
      "cell_type": "code",
      "source": [
        "count_vector = CountVectorizer(tokenizer = spacy_tokenizer)\n",
        "# tfidf_vector = TfidfVectorizer(tokenizer = spacy_tokenizer)"
      ],
      "metadata": {
        "id": "6LPUz0CM-2jb"
      },
      "execution_count": 19,
      "outputs": []
    },
    {
      "cell_type": "code",
      "source": [
        "count_vector.fit_transform([\"I am eating apple, I like apple\",\"I am playing cricket\"]).toarray()"
      ],
      "metadata": {
        "colab": {
          "base_uri": "https://localhost:8080/"
        },
        "id": "iEu71pvw_DkM",
        "outputId": "afe28f7f-7d6e-45b6-8201-ebd9ef6de9de"
      },
      "execution_count": 20,
      "outputs": [
        {
          "output_type": "stream",
          "name": "stderr",
          "text": [
            "/usr/local/lib/python3.10/dist-packages/sklearn/feature_extraction/text.py:528: UserWarning: The parameter 'token_pattern' will not be used since 'tokenizer' is not None'\n",
            "  warnings.warn(\n"
          ]
        },
        {
          "output_type": "execute_result",
          "data": {
            "text/plain": [
              "array([[2, 0, 1, 1, 0],\n",
              "       [0, 1, 0, 0, 1]])"
            ]
          },
          "metadata": {},
          "execution_count": 20
        }
      ]
    },
    {
      "cell_type": "code",
      "source": [
        "count_vector.get_feature_names_out()"
      ],
      "metadata": {
        "colab": {
          "base_uri": "https://localhost:8080/"
        },
        "id": "e_oVh5fb2b2y",
        "outputId": "6811d1da-a00a-4ea9-86c7-2f84d81887c3"
      },
      "execution_count": 21,
      "outputs": [
        {
          "output_type": "execute_result",
          "data": {
            "text/plain": [
              "array(['apple', 'cricket', 'eat', 'like', 'play'], dtype=object)"
            ]
          },
          "metadata": {},
          "execution_count": 21
        }
      ]
    },
    {
      "cell_type": "code",
      "source": [
        "count_vector.vocabulary_"
      ],
      "metadata": {
        "colab": {
          "base_uri": "https://localhost:8080/"
        },
        "id": "BXf7_6V6_Hhc",
        "outputId": "0bf85d1a-39f2-4298-ce4b-0f6d12fcf96d"
      },
      "execution_count": 22,
      "outputs": [
        {
          "output_type": "execute_result",
          "data": {
            "text/plain": [
              "{'eat': 2, 'apple': 0, 'like': 3, 'play': 4, 'cricket': 1}"
            ]
          },
          "metadata": {},
          "execution_count": 22
        }
      ]
    },
    {
      "cell_type": "code",
      "source": [
        "from sklearn.model_selection import train_test_split\n",
        "\n",
        "X = data['comment_text'] # the features we want to analyze\n",
        "ylabels = data['toxic'] # the labels, or answers, we want to test against\n",
        "\n",
        "X_train, X_test, y_train, y_test = train_test_split(X, ylabels, test_size=0.2,stratify=ylabels)"
      ],
      "metadata": {
        "id": "qec8nyso_L7s"
      },
      "execution_count": 23,
      "outputs": []
    },
    {
      "cell_type": "code",
      "source": [
        "from sklearn.linear_model import LogisticRegression\n",
        "classifier = LogisticRegression()"
      ],
      "metadata": {
        "id": "DGUCTrII_ZTj"
      },
      "execution_count": 24,
      "outputs": []
    },
    {
      "cell_type": "code",
      "source": [
        "X_train_vetcors= count_vector.fit_transform(X_train)\n",
        "X_test_vetcors= count_vector.transform(X_test)"
      ],
      "metadata": {
        "id": "7hGUZTMq_kIL",
        "outputId": "500ab5eb-8685-4b86-c9f6-96b56d8ff4be",
        "colab": {
          "base_uri": "https://localhost:8080/"
        }
      },
      "execution_count": 25,
      "outputs": [
        {
          "output_type": "stream",
          "name": "stderr",
          "text": [
            "/usr/local/lib/python3.10/dist-packages/sklearn/feature_extraction/text.py:528: UserWarning: The parameter 'token_pattern' will not be used since 'tokenizer' is not None'\n",
            "  warnings.warn(\n"
          ]
        }
      ]
    },
    {
      "cell_type": "code",
      "source": [
        "X_train_vetcors.shape"
      ],
      "metadata": {
        "colab": {
          "base_uri": "https://localhost:8080/"
        },
        "id": "w6I17ZFaAlMh",
        "outputId": "2bf29683-403d-4f49-e659-58a518c03370"
      },
      "execution_count": 26,
      "outputs": [
        {
          "output_type": "execute_result",
          "data": {
            "text/plain": [
              "(113, 2033)"
            ]
          },
          "metadata": {},
          "execution_count": 26
        }
      ]
    },
    {
      "cell_type": "code",
      "source": [
        "X_test_vetcors.shape"
      ],
      "metadata": {
        "colab": {
          "base_uri": "https://localhost:8080/"
        },
        "id": "JGLMunlMAoQR",
        "outputId": "2589f78f-4105-49d2-e66a-ca2c3b0bb117"
      },
      "execution_count": 27,
      "outputs": [
        {
          "output_type": "execute_result",
          "data": {
            "text/plain": [
              "(29, 2033)"
            ]
          },
          "metadata": {},
          "execution_count": 27
        }
      ]
    },
    {
      "cell_type": "code",
      "source": [
        "X_train_vetcors.toarray()"
      ],
      "metadata": {
        "colab": {
          "base_uri": "https://localhost:8080/"
        },
        "id": "4KFEVYJr_H8k",
        "outputId": "4d60d14d-3487-4ad3-c30a-2716302095d7"
      },
      "execution_count": 28,
      "outputs": [
        {
          "output_type": "execute_result",
          "data": {
            "text/plain": [
              "array([[0, 0, 0, ..., 0, 0, 0],\n",
              "       [0, 0, 0, ..., 0, 0, 0],\n",
              "       [0, 0, 0, ..., 0, 0, 0],\n",
              "       ...,\n",
              "       [0, 0, 0, ..., 0, 0, 0],\n",
              "       [0, 0, 0, ..., 0, 0, 0],\n",
              "       [0, 0, 0, ..., 0, 0, 0]])"
            ]
          },
          "metadata": {},
          "execution_count": 28
        }
      ]
    },
    {
      "cell_type": "code",
      "source": [
        "classifier.fit(X_train_vetcors,y_train)"
      ],
      "metadata": {
        "colab": {
          "base_uri": "https://localhost:8080/",
          "height": 75
        },
        "id": "Q1IfdHPiBmEU",
        "outputId": "1ff14700-3259-4e8c-d2f7-659285e72916"
      },
      "execution_count": 29,
      "outputs": [
        {
          "output_type": "execute_result",
          "data": {
            "text/plain": [
              "LogisticRegression()"
            ],
            "text/html": [
              "<style>#sk-container-id-1 {color: black;background-color: white;}#sk-container-id-1 pre{padding: 0;}#sk-container-id-1 div.sk-toggleable {background-color: white;}#sk-container-id-1 label.sk-toggleable__label {cursor: pointer;display: block;width: 100%;margin-bottom: 0;padding: 0.3em;box-sizing: border-box;text-align: center;}#sk-container-id-1 label.sk-toggleable__label-arrow:before {content: \"▸\";float: left;margin-right: 0.25em;color: #696969;}#sk-container-id-1 label.sk-toggleable__label-arrow:hover:before {color: black;}#sk-container-id-1 div.sk-estimator:hover label.sk-toggleable__label-arrow:before {color: black;}#sk-container-id-1 div.sk-toggleable__content {max-height: 0;max-width: 0;overflow: hidden;text-align: left;background-color: #f0f8ff;}#sk-container-id-1 div.sk-toggleable__content pre {margin: 0.2em;color: black;border-radius: 0.25em;background-color: #f0f8ff;}#sk-container-id-1 input.sk-toggleable__control:checked~div.sk-toggleable__content {max-height: 200px;max-width: 100%;overflow: auto;}#sk-container-id-1 input.sk-toggleable__control:checked~label.sk-toggleable__label-arrow:before {content: \"▾\";}#sk-container-id-1 div.sk-estimator input.sk-toggleable__control:checked~label.sk-toggleable__label {background-color: #d4ebff;}#sk-container-id-1 div.sk-label input.sk-toggleable__control:checked~label.sk-toggleable__label {background-color: #d4ebff;}#sk-container-id-1 input.sk-hidden--visually {border: 0;clip: rect(1px 1px 1px 1px);clip: rect(1px, 1px, 1px, 1px);height: 1px;margin: -1px;overflow: hidden;padding: 0;position: absolute;width: 1px;}#sk-container-id-1 div.sk-estimator {font-family: monospace;background-color: #f0f8ff;border: 1px dotted black;border-radius: 0.25em;box-sizing: border-box;margin-bottom: 0.5em;}#sk-container-id-1 div.sk-estimator:hover {background-color: #d4ebff;}#sk-container-id-1 div.sk-parallel-item::after {content: \"\";width: 100%;border-bottom: 1px solid gray;flex-grow: 1;}#sk-container-id-1 div.sk-label:hover label.sk-toggleable__label {background-color: #d4ebff;}#sk-container-id-1 div.sk-serial::before {content: \"\";position: absolute;border-left: 1px solid gray;box-sizing: border-box;top: 0;bottom: 0;left: 50%;z-index: 0;}#sk-container-id-1 div.sk-serial {display: flex;flex-direction: column;align-items: center;background-color: white;padding-right: 0.2em;padding-left: 0.2em;position: relative;}#sk-container-id-1 div.sk-item {position: relative;z-index: 1;}#sk-container-id-1 div.sk-parallel {display: flex;align-items: stretch;justify-content: center;background-color: white;position: relative;}#sk-container-id-1 div.sk-item::before, #sk-container-id-1 div.sk-parallel-item::before {content: \"\";position: absolute;border-left: 1px solid gray;box-sizing: border-box;top: 0;bottom: 0;left: 50%;z-index: -1;}#sk-container-id-1 div.sk-parallel-item {display: flex;flex-direction: column;z-index: 1;position: relative;background-color: white;}#sk-container-id-1 div.sk-parallel-item:first-child::after {align-self: flex-end;width: 50%;}#sk-container-id-1 div.sk-parallel-item:last-child::after {align-self: flex-start;width: 50%;}#sk-container-id-1 div.sk-parallel-item:only-child::after {width: 0;}#sk-container-id-1 div.sk-dashed-wrapped {border: 1px dashed gray;margin: 0 0.4em 0.5em 0.4em;box-sizing: border-box;padding-bottom: 0.4em;background-color: white;}#sk-container-id-1 div.sk-label label {font-family: monospace;font-weight: bold;display: inline-block;line-height: 1.2em;}#sk-container-id-1 div.sk-label-container {text-align: center;}#sk-container-id-1 div.sk-container {/* jupyter's `normalize.less` sets `[hidden] { display: none; }` but bootstrap.min.css set `[hidden] { display: none !important; }` so we also need the `!important` here to be able to override the default hidden behavior on the sphinx rendered scikit-learn.org. See: https://github.com/scikit-learn/scikit-learn/issues/21755 */display: inline-block !important;position: relative;}#sk-container-id-1 div.sk-text-repr-fallback {display: none;}</style><div id=\"sk-container-id-1\" class=\"sk-top-container\"><div class=\"sk-text-repr-fallback\"><pre>LogisticRegression()</pre><b>In a Jupyter environment, please rerun this cell to show the HTML representation or trust the notebook. <br />On GitHub, the HTML representation is unable to render, please try loading this page with nbviewer.org.</b></div><div class=\"sk-container\" hidden><div class=\"sk-item\"><div class=\"sk-estimator sk-toggleable\"><input class=\"sk-toggleable__control sk-hidden--visually\" id=\"sk-estimator-id-1\" type=\"checkbox\" checked><label for=\"sk-estimator-id-1\" class=\"sk-toggleable__label sk-toggleable__label-arrow\">LogisticRegression</label><div class=\"sk-toggleable__content\"><pre>LogisticRegression()</pre></div></div></div></div></div>"
            ]
          },
          "metadata": {},
          "execution_count": 29
        }
      ]
    },
    {
      "cell_type": "code",
      "source": [
        "predicted = classifier.predict(X_test_vetcors)\n",
        "print(\"Logistic Regression Accuracy:\",metrics.accuracy_score(y_test, predicted))\n",
        "print(\"Logistic Regression Precision:\",metrics.precision_score(y_test, predicted))\n",
        "print(\"Logistic Regression Recall:\",metrics.recall_score(y_test, predicted))"
      ],
      "metadata": {
        "colab": {
          "base_uri": "https://localhost:8080/"
        },
        "id": "x7IrEWeA_07S",
        "outputId": "dc5608ed-0895-4f7f-a235-1cd451d390c1"
      },
      "execution_count": 30,
      "outputs": [
        {
          "output_type": "stream",
          "name": "stdout",
          "text": [
            "Logistic Regression Accuracy: 0.896551724137931\n",
            "Logistic Regression Precision: 0.0\n",
            "Logistic Regression Recall: 0.0\n"
          ]
        },
        {
          "output_type": "stream",
          "name": "stderr",
          "text": [
            "/usr/local/lib/python3.10/dist-packages/sklearn/metrics/_classification.py:1344: UndefinedMetricWarning: Precision is ill-defined and being set to 0.0 due to no predicted samples. Use `zero_division` parameter to control this behavior.\n",
            "  _warn_prf(average, modifier, msg_start, len(result))\n"
          ]
        }
      ]
    },
    {
      "cell_type": "code",
      "source": [
        "tfidf_vector = TfidfVectorizer(tokenizer = spacy_tokenizer)\n",
        "X_train_vetcors= tfidf_vector.fit_transform(X_train)\n",
        "X_test_vetcors= tfidf_vector.transform(X_test)"
      ],
      "metadata": {
        "id": "OCejEw89_7Pi",
        "outputId": "18bb8115-96d5-4caf-a4ef-c6b182b0f47c",
        "colab": {
          "base_uri": "https://localhost:8080/"
        }
      },
      "execution_count": 31,
      "outputs": [
        {
          "output_type": "stream",
          "name": "stderr",
          "text": [
            "/usr/local/lib/python3.10/dist-packages/sklearn/feature_extraction/text.py:528: UserWarning: The parameter 'token_pattern' will not be used since 'tokenizer' is not None'\n",
            "  warnings.warn(\n"
          ]
        }
      ]
    },
    {
      "cell_type": "code",
      "source": [
        "classifier = LogisticRegression()\n",
        "classifier.fit(X_train_vetcors,y_train)\n",
        "predicted = classifier.predict(X_test_vetcors)\n",
        "print(\"Logistic Regression Accuracy:\",metrics.accuracy_score(y_test, predicted))\n",
        "print(\"Logistic Regression Precision:\",metrics.precision_score(y_test, predicted))\n",
        "print(\"Logistic Regression Recall:\",metrics.recall_score(y_test, predicted))"
      ],
      "metadata": {
        "colab": {
          "base_uri": "https://localhost:8080/"
        },
        "id": "a0CU5yZrDOz-",
        "outputId": "e06505e3-5177-4ed9-9688-fb37bfb4fbc2"
      },
      "execution_count": 32,
      "outputs": [
        {
          "output_type": "stream",
          "name": "stdout",
          "text": [
            "Logistic Regression Accuracy: 0.896551724137931\n",
            "Logistic Regression Precision: 0.0\n",
            "Logistic Regression Recall: 0.0\n"
          ]
        },
        {
          "output_type": "stream",
          "name": "stderr",
          "text": [
            "/usr/local/lib/python3.10/dist-packages/sklearn/metrics/_classification.py:1344: UndefinedMetricWarning: Precision is ill-defined and being set to 0.0 due to no predicted samples. Use `zero_division` parameter to control this behavior.\n",
            "  _warn_prf(average, modifier, msg_start, len(result))\n"
          ]
        }
      ]
    },
    {
      "cell_type": "code",
      "source": [],
      "metadata": {
        "id": "SpnD_5ipD7TF"
      },
      "execution_count": null,
      "outputs": []
    }
  ]
}